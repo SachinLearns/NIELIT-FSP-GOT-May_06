{
  "nbformat": 4,
  "nbformat_minor": 0,
  "metadata": {
    "colab": {
      "provenance": []
    },
    "kernelspec": {
      "name": "python3",
      "display_name": "Python 3"
    },
    "language_info": {
      "name": "python"
    }
  },
  "cells": [
    {
      "cell_type": "code",
      "execution_count": null,
      "metadata": {
        "id": "HLFAiiiPRF9r"
      },
      "outputs": [],
      "source": [
        "print(\"Hello, world!\")"
      ]
    },
    {
      "cell_type": "code",
      "source": [
        "a = int(input(\"Enter a number: \"))\n",
        "b = int(input(\"Enter second number: \"))\n",
        "c = a*b\n",
        "print('Product of the two numbers that you added is ', c)"
      ],
      "metadata": {
        "colab": {
          "base_uri": "https://localhost:8080/"
        },
        "id": "olHyPb26RNc_",
        "outputId": "7345c710-513b-4d9f-e189-f2ef8a741b8c"
      },
      "execution_count": 5,
      "outputs": [
        {
          "output_type": "stream",
          "name": "stdout",
          "text": [
            "Enter a number: 6\n",
            "Enter second number: 8\n",
            "Product of the two numbers that you added is  48\n"
          ]
        }
      ]
    },
    {
      "cell_type": "code",
      "source": [
        "# Primitive Data Strucutres (a.k.a. Data Types)\n",
        "my_int = -1 # Integer\n",
        "my_float = 5.6 # Decimal\n",
        "my_str = 'Hello!' #Text\n",
        "my_bool = True #True/False\n",
        "type(my_str)"
      ],
      "metadata": {
        "colab": {
          "base_uri": "https://localhost:8080/"
        },
        "id": "KZQgw1OZRgBa",
        "outputId": "9d3232d3-29c6-4a06-8531-888eac370d0c"
      },
      "execution_count": 5,
      "outputs": [
        {
          "output_type": "execute_result",
          "data": {
            "text/plain": [
              "str"
            ]
          },
          "metadata": {},
          "execution_count": 5
        }
      ]
    }
  ]
}